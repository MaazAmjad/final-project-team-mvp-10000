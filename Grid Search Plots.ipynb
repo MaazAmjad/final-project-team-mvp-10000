{
 "cells": [
  {
   "cell_type": "code",
   "execution_count": 36,
   "metadata": {},
   "outputs": [],
   "source": [
    "%matplotlib inline\n",
    "\n",
    "import matplotlib\n",
    "import numpy as np\n",
    "import matplotlib.pyplot as plt\n",
    "import re, os"
   ]
  },
  {
   "cell_type": "code",
   "execution_count": 40,
   "metadata": {},
   "outputs": [],
   "source": [
    "# \n",
    "# Plot training curves within the directory specified below.\n",
    "# Note: The directory specified below must contain directories of models which have a eval_results.txt file\n",
    "#\n",
    "grid_search_dir = 'gridsearchtest'\n",
    "model_dirs = os.listdir(grid_search_dir)"
   ]
  },
  {
   "cell_type": "code",
   "execution_count": 44,
   "metadata": {},
   "outputs": [],
   "source": [
    "def parse_line(s):\n",
    "    \"\"\"Returns epoch and validation accuracy\"\"\"\n",
    "    m = re.match(r\"Epoch (\\d+): Validation Accuracy=([0-9]*\\.?[0-9]+)\", s)\n",
    "    if m:\n",
    "        groups = m.groups()\n",
    "        epoch, validation = groups\n",
    "        return int(epoch), float(validation)\n",
    "    \n",
    "def get_plot_title(directory_name):\n",
    "    \"\"\"Returns the plot title for a given directory name\"\"\"\n",
    "    m = re.match(r\"^(bert-[^_]*)_([^_]*)_([^_]*)_([^_]*)$\", directory_name)\n",
    "    if m:\n",
    "        groups = m.groups()\n",
    "        bert_model, max_seq_len, learning_rate, num_train_epochs = groups\n",
    "        return f'{bert_model} with max_seq_len={max_seq_len} learning_rate={learning_rate} for {num_train_epochs} epochs'\n",
    "    return f'Error: Could not parse {directory_name}'\n",
    "\n",
    "def get_data(fp):\n",
    "    \"\"\"Get all data from a file\"\"\"\n",
    "    epochs = []\n",
    "    validations = []\n",
    "    for line in fp:\n",
    "        if parse_line(line):\n",
    "            epoch, validation = parse_line(line)\n",
    "            epochs.append(epoch)\n",
    "            validations.append(validation)\n",
    "    return epochs, validations\n",
    "    \n",
    "def create_plots(model_dirs):\n",
    "    for directory in model_dirs:\n",
    "        current_path = os.path.join(grid_search_dir, directory)\n",
    "        for f in os.listdir(current_path):\n",
    "            if f.endswith(\"results.txt\"):\n",
    "                data_path = os.path.join(current_path, f)\n",
    "                with open(data_path, 'r') as fp:\n",
    "                    X, Y = get_data(fp)\n",
    "                    fig = plt.figure()\n",
    "                    plt.plot(X,Y)\n",
    "                    fig.suptitle(get_plot_title(directory))\n",
    "                    plt.xlabel('Epoch')\n",
    "                    plt.ylabel('Validation Accuracy')"
   ]
  },
  {
   "cell_type": "code",
   "execution_count": 45,
   "metadata": {},
   "outputs": [
    {
     "data": {
      "image/png": "[encoded data removed]",
      "text/plain": [
       "<Figure size 432x288 with 1 Axes>"
      ]
     },
     "metadata": {},
     "output_type": "display_data"
    }
   ],
   "source": [
    "create_plots(model_dirs)"
   ]
  },
  {
   "cell_type": "code",
   "execution_count": null,
   "metadata": {},
   "outputs": [],
   "source": []
  }
 ],
 "metadata": {
  "kernelspec": {
   "display_name": "Python 3",
   "language": "python",
   "name": "python3"
  },
  "language_info": {
   "codemirror_mode": {
    "name": "ipython",
    "version": 3
   },
   "file_extension": ".py",
   "mimetype": "text/x-python",
   "name": "python",
   "nbconvert_exporter": "python",
   "pygments_lexer": "ipython3",
   "version": "3.6.7"
  }
 },
 "nbformat": 4,
 "nbformat_minor": 2
}
